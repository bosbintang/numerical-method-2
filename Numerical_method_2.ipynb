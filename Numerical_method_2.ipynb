{
  "nbformat": 4,
  "nbformat_minor": 0,
  "metadata": {
    "colab": {
      "provenance": [],
      "authorship_tag": "ABX9TyOrtLKNVGNpVPu3AmPZUJEH",
      "include_colab_link": true
    },
    "kernelspec": {
      "name": "python3",
      "display_name": "Python 3"
    }
  },
  "cells": [
    {
      "cell_type": "markdown",
      "metadata": {
        "id": "view-in-github",
        "colab_type": "text"
      },
      "source": [
        "<a href=\"https://colab.research.google.com/github/bosbintang/numerical-method-2/blob/main/Numerical_method_2.ipynb\" target=\"_parent\"><img src=\"https://colab.research.google.com/assets/colab-badge.svg\" alt=\"Open In Colab\"/></a>"
      ]
    },
    {
      "cell_type": "code",
      "metadata": {
        "id": "12PnHLjaDUoo",
        "colab": {
          "base_uri": "https://localhost:8080/",
          "height": 118
        },
        "outputId": "8ea4fae3-7d7a-478d-efb1-e53da2bea9ee"
      },
      "source": [
        "import matplotlib.pyplot as plt\n",
        "import numpy as np\n",
        "\n",
        "def damped_jacobi(v,b,a):\n",
        "    w=2./3.\n",
        "    v[1:-1]=(1.-w)*v[1:-1]+w*(1/(((h**2)*a[1:-1])+2.))*(b[1:-1]+v[:-2]+v[2:])\n",
        "    \n",
        "def gseidel(v,b,a):\n",
        "    for i in range(1,len(v)-1):\n",
        "        v[i]=(1./(2+a*h**2))*(b[i]+v[i-1]+v[i+1])   \n",
        "\n",
        "def restrict(v):\n",
        "    return np.pad(0.25*v[1:-3:2]+0.5*v[2:-2:2]+0.25*v[3:-1:2],1,'constant')\n",
        "\n",
        "def prolong(v):\n",
        "    r=np.zeros(2*len(v)-1)\n",
        "    r[::2]=v\n",
        "    r[1::2]=0.5*(v[:-1]+v[1:])\n",
        "    return r\n",
        "\n",
        "def amul(v,a):\n",
        "    return np.pad(-v[:-2]+(2+a[1:-1]*h**2)*v[1:-1]-v[2:],1,'constant')\n",
        "\n",
        "def vcycle(v,b,a):\n",
        "    for i in range(3):\n",
        "        damped_jacobi(v,b,a)\n",
        "    if len(v) <= 3:\n",
        "        return\n",
        "    \n",
        "    r=b-amul(v,a)\n",
        "    r2=4.*restrict(r)\n",
        "    e2=np.zeros_like(r2)\n",
        "    a1=restrict(a)\n",
        "    vcycle(e2,r2,a1)\n",
        "    v+=prolong(e2)\n",
        "    \n",
        "    for i in range(3):\n",
        "        damped_jacobi(v,b,a)\n",
        "\n",
        "def tridiag_solver(b):\n",
        "    b=np.copy(b)\n",
        "    v=np.zeros_like(b)\n",
        "    c=np.zeros_like(b)\n",
        "\n",
        "    for i in range(1,len(v)-1):\n",
        "        c[i]=-1./(2+c[i-1])\n",
        "        b[i]=(b[i]+b[i-1])/(2+c[i-1])\n",
        "\n",
        "    for i in reversed(range(1,len(v)-1)):\n",
        "        v[i]=b[i]-c[i]*v[i+1]\n",
        "\n",
        "    return v\n",
        "\n",
        "for j in range(3):  \n",
        "    N=2**(4+(2*(j+1)))\n",
        "    h=1./N\n",
        "    a=np.zeros(N+1)\n",
        "    a[1:11]=(1000*N**2)\n",
        "    x=np.linspace(0.,1.,N+1)\n",
        "    b=np.full_like(x,2)\n",
        "    b[0]=b[-1]=0\n",
        "    ve=tridiag_solver(b)\n",
        "    \n",
        "    v=np.zeros_like(x)\n",
        "    r=b-amul(v,a)\n",
        "\n",
        "    for k in range(10):\n",
        "        z=0.5*r\n",
        "        ak=np.dot(r,z)/np.dot(amul(z,a),z)\n",
        "        v=v+ak*z\n",
        "        r1=r-ak*z\n",
        "        z1=0.5*r1\n",
        "        bk=np.dot(r1,z1)/np.dot(r,z)\n",
        "        z=z1+bk*z\n",
        "        r=z\n",
        "    r_norm0=np.sqrt(r.dot(r))\n",
        "    r_norm=[r_norm0]\n",
        "\n",
        "    for i in range(100):\n",
        "        vcycle(v,b,a)   \n",
        "        r=b-amul(v,a)\n",
        "        r_norm.append(np.sqrt(r.dot(r)))\n",
        "    \n",
        "    step=np.argmax(np.array(r_norm)<1e-03)\n",
        "    \n",
        "    print(\"N:\",N)\n",
        "    print(\"Steps: \",step)"
      ],
      "execution_count": null,
      "outputs": [
        {
          "output_type": "stream",
          "text": [
            "N: 64\n",
            "Steps:  14\n",
            "N: 256\n",
            "Steps:  22\n",
            "N: 1024\n",
            "Steps:  28\n"
          ],
          "name": "stdout"
        }
      ]
    }
  ]
}